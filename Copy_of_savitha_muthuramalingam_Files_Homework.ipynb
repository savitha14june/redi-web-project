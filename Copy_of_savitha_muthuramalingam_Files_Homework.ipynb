{
  "nbformat": 4,
  "nbformat_minor": 0,
  "metadata": {
    "colab": {
      "provenance": [],
      "include_colab_link": true
    },
    "kernelspec": {
      "name": "python3",
      "display_name": "Python 3"
    },
    "language_info": {
      "name": "python"
    }
  },
  "cells": [
    {
      "cell_type": "markdown",
      "metadata": {
        "id": "view-in-github",
        "colab_type": "text"
      },
      "source": [
        "<a href=\"https://colab.research.google.com/github/savitha14june/redi-web-project/blob/main/Copy_of_savitha_muthuramalingam_Files_Homework.ipynb\" target=\"_parent\"><img src=\"https://colab.research.google.com/assets/colab-badge.svg\" alt=\"Open In Colab\"/></a>"
      ]
    },
    {
      "cell_type": "markdown",
      "source": [
        "**Exercise 1**: Ask the user to enter a filename and a text, create a new file with a given name and save the text there"
      ],
      "metadata": {
        "id": "ZxrmpOe_goiu"
      }
    },
    {
      "cell_type": "code",
      "source": [
        "file_name = input(\"Enter the file name : \")\n",
        "text = input(\"Enter the text (to be written in the file) : \")\n",
        "with open(file_name,\"w\") as f:\n",
        "  f.write(text)"
      ],
      "metadata": {
        "id": "_hppZ0d7hMIu",
        "colab": {
          "base_uri": "https://localhost:8080/"
        },
        "outputId": "1e5030b0-a909-415e-a875-3d15cd0eb39e"
      },
      "execution_count": null,
      "outputs": [
        {
          "name": "stdout",
          "output_type": "stream",
          "text": [
            "Enter the file name : sample\n",
            "Enter the text (to be written in the file) : Hi, this  is  a sample text\n"
          ]
        }
      ]
    },
    {
      "cell_type": "markdown",
      "source": [
        "**Exercise 2**:\n",
        "*   Manually create the file with 10 lines of text\n",
        "*   Write a program which reads this file and prints every odd line from it, skipping the even ones\n",
        "\n",
        "\n"
      ],
      "metadata": {
        "id": "XVqRnGU1hPU7"
      }
    },
    {
      "cell_type": "markdown",
      "source": [],
      "metadata": {
        "id": "PidwIfSPDjVr"
      }
    },
    {
      "cell_type": "code",
      "source": [
        "line = 0\n",
        "with open(\"exercise2.txt\",\"r\") as file_ex2:\n",
        "    for l in file_ex2:\n",
        "      line += 1\n",
        "      if (line % 2 == 1):\n",
        "        print(l)\n"
      ],
      "metadata": {
        "id": "-xtz-jDpizYd",
        "colab": {
          "base_uri": "https://localhost:8080/"
        },
        "outputId": "15900c16-abfe-44ad-c14c-f041acb1f32b"
      },
      "execution_count": null,
      "outputs": [
        {
          "output_type": "stream",
          "name": "stdout",
          "text": [
            "Name,Age,Score\n",
            "\n",
            "Bob,24,92.0\n",
            "\n",
            "David,28,99.9\n",
            "\n",
            "Fiona,21,78.3\n",
            "\n",
            "Henry,37,82.7\n",
            "\n"
          ]
        }
      ]
    },
    {
      "cell_type": "markdown",
      "source": [
        "**Exercise 3**:\n",
        "*   Find on the internet a poem by Oscar Wild \"The Sphinx\"\n",
        "*   Save its text to a file sphinx.txt\n",
        "*   Write a program which calculates number of lines and characters in this file and prints it\n"
      ],
      "metadata": {
        "id": "K5qcqiV6k7A2"
      }
    },
    {
      "cell_type": "code",
      "source": [
        "number_of_lines = 0\n",
        "number_of_char = 0\n",
        "with open(\"sphinx.txt\",\"r\") as sphinx_file:\n",
        "  for l in sphinx_file:\n",
        "    number_of_lines += 1\n",
        "    char = len(l)\n",
        "    number_of_char += char\n",
        "print(\"In 'The Sphinx' - poem by Oscar Wild \")\n",
        "print(\"Number of lines : \", number_of_lines)\n",
        "print(\"Number of characters : \", number_of_char)\n"
      ],
      "metadata": {
        "id": "ZzDzMBHzmfUM",
        "colab": {
          "base_uri": "https://localhost:8080/"
        },
        "outputId": "4971cfa4-aec3-489d-bfc6-8c5b6a96752f"
      },
      "execution_count": null,
      "outputs": [
        {
          "output_type": "stream",
          "name": "stdout",
          "text": [
            "In 'The Sphinx' - poem by Oscar Wild \n",
            "Number of lines :  174\n",
            "Number of characters :  11810\n"
          ]
        }
      ]
    },
    {
      "cell_type": "markdown",
      "source": [
        "**Exercise 4**:\n",
        "*   Use the file *sphinx.txt* from the previous exercise\n",
        "*   Write a program reads this file line by line and creates another file \"sphinx_numbered.txt\" where you add the line number and colon to the beginning of each line\n",
        "\n",
        "So if the original file looks like\n",
        "\n",
        "```\n",
        "aaa\n",
        "bbb\n",
        "ccc\n",
        "\n",
        "```\n",
        "\n",
        "Your result file should be like:\n",
        "\n",
        "```\n",
        "1: aaa\n",
        "2: bbb\n",
        "3: ccc\n",
        "\n",
        "```\n"
      ],
      "metadata": {
        "id": "paBnRV2HjZ0h"
      }
    },
    {
      "cell_type": "code",
      "source": [
        "number_of_lines = 0\n",
        "with open(\"sphinx_numbered\",\"a\") as sphinx_numbered_file:\n",
        "  with open(\"sphinx.txt\",\"r\") as sphinx_file:\n",
        "    for l in sphinx_file:\n",
        "      number_of_lines += 1\n",
        "      content = str(number_of_lines) + \": \" + l\n",
        "      sphinx_numbered_file.write(content)\n"
      ],
      "metadata": {
        "id": "Dca3QgkKmeDw"
      },
      "execution_count": null,
      "outputs": []
    },
    {
      "cell_type": "markdown",
      "source": [
        "**Exercise 5**:\n",
        "*   Use the file *sphinx.txt* from the previous exercise\n",
        "*   Write a program which reads this file and creates two files *sphinx_with_a.txt* and *sphinx_without_a.txt*\n",
        "*   All lines from the original file which contain at least one letter \"a\" should be written to *sphinx_with_a.txt*, all lines which do not contain this letter to *sphinx_without_a.txt*"
      ],
      "metadata": {
        "id": "awnf3EU8mhgT"
      }
    },
    {
      "cell_type": "code",
      "source": [
        "with open(\"sphinx.txt\",\"r\") as sphinx_file:\n",
        "    for l in sphinx_file:\n",
        "      if 'a' in l:\n",
        "        with open(\"sphinx_with_a.txt\",\"a\") as sphinx_a_file:\n",
        "          sphinx_a_file.write(l)\n",
        "      else:\n",
        "        with open(\"sphinx_without_a.txt\",\"a\") as sphinx_not_a_file:\n",
        "          sphinx_not_a_file.write(l)"
      ],
      "metadata": {
        "id": "Y9S_2JYInpta"
      },
      "execution_count": null,
      "outputs": []
    },
    {
      "cell_type": "markdown",
      "source": [
        "**Exercise 6**:\n",
        "*   Use the file *sphinx.txt* from the previous exercise\n",
        "*   Write a program which reads this file, finds all words which start with the letter \"b\" and writes them into a new file *sphinx_b_words.txt*\n",
        "*   Each word should be on a new line and the order of lines should be alphabetical, duplicates should be removed"
      ],
      "metadata": {
        "id": "raFLdHj7nrZw"
      }
    },
    {
      "cell_type": "code",
      "source": [
        "b_words = set()\n",
        "with open(\"sphinx.txt\",\"r\") as sphinx_file:\n",
        "    for l in sphinx_file:\n",
        "      words = l.split(\" \")\n",
        "      for word in words:\n",
        "        if word.lower().startswith('b'):\n",
        "          b_words.add(word)\n",
        "sorted(b_words)\n",
        "with open(\"sphinx_b_words.txt\",\"a\") as sphinx_b_file:\n",
        "  for w in b_words:\n",
        "    sphinx_b_file.write(w + '\\n')"
      ],
      "metadata": {
        "id": "1vkzqHtwoema"
      },
      "execution_count": null,
      "outputs": []
    },
    {
      "cell_type": "code",
      "source": [],
      "metadata": {
        "id": "GPIuSdEsD5tI"
      },
      "execution_count": null,
      "outputs": []
    }
  ]
}