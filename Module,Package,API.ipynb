{
  "nbformat": 4,
  "nbformat_minor": 0,
  "metadata": {
    "colab": {
      "provenance": [],
      "include_colab_link": true
    },
    "kernelspec": {
      "name": "python3",
      "display_name": "Python 3"
    },
    "language_info": {
      "name": "python"
    }
  },
  "cells": [
    {
      "cell_type": "markdown",
      "metadata": {
        "id": "view-in-github",
        "colab_type": "text"
      },
      "source": [
        "<a href=\"https://colab.research.google.com/github/savitha14june/redi-web-project/blob/main/Module%2CPackage%2CAPI.ipynb\" target=\"_parent\"><img src=\"https://colab.research.google.com/assets/colab-badge.svg\" alt=\"Open In Colab\"/></a>"
      ]
    },
    {
      "cell_type": "markdown",
      "source": [
        "**Module**\n",
        "\n",
        "**What is a Python Module?**\n",
        "\n",
        "A Python module is a file containing Python code, including functions, classes, and variables. Modules are reusable, making it easy to organize and structure large programs.\n",
        "\n",
        "**Types of Modules**\n",
        "- Built-in Modules: Already pre-installed with Python (e.g., math, time).\n",
        "- Standard Library Modules: Included with Python, but not automatically imported (e.g., urllib, xml).\n",
        "- Third-Party Modules: Installed using package managers like pip (e.g., requests, numpy).\n",
        "- User-Defined Modules: Custom modules created by developers.\n",
        "Creating a Module"
      ],
      "metadata": {
        "id": "G0zw840qkCck"
      }
    },
    {
      "cell_type": "markdown",
      "source": [
        "#Importing functions from standard modules\n",
        "\n"
      ],
      "metadata": {
        "id": "RqQiDx2luXsf"
      }
    },
    {
      "cell_type": "code",
      "source": [
        "import datetime\n",
        "\n",
        "now = datetime.datetime.now()\n",
        "print(now)  # Output: Current date and time"
      ],
      "metadata": {
        "id": "D4mbVxS_p2Q0",
        "colab": {
          "base_uri": "https://localhost:8080/"
        },
        "outputId": "68a2e21a-c050-4bcd-8789-a708e9e3d22b"
      },
      "execution_count": null,
      "outputs": [
        {
          "output_type": "stream",
          "name": "stdout",
          "text": [
            "2025-10-01 16:50:58.161312\n"
          ]
        }
      ]
    },
    {
      "cell_type": "code",
      "source": [
        "import datetime\n",
        "\n",
        "now = datetime.datetime.now()\n",
        "print(now)  # Output: Current date and time"
      ],
      "metadata": {
        "id": "0vr8omh0zHpV",
        "colab": {
          "base_uri": "https://localhost:8080/"
        },
        "outputId": "c8783d74-3e63-4d58-a126-e187f857bfcc"
      },
      "execution_count": null,
      "outputs": [
        {
          "output_type": "stream",
          "name": "stdout",
          "text": [
            "2025-10-01 16:25:27.742034\n"
          ]
        }
      ]
    },
    {
      "cell_type": "code",
      "source": [
        "import math\n",
        "\n",
        "print(math.pi)  # Output: 3.14159...\n",
        "print(math.sqrt(81))  # Output: 4.0"
      ],
      "metadata": {
        "id": "KbBfPAFkwoG-",
        "colab": {
          "base_uri": "https://localhost:8080/"
        },
        "outputId": "c6c11b6e-03ad-47f0-dc3d-8ae60ffd5b65"
      },
      "execution_count": null,
      "outputs": [
        {
          "output_type": "stream",
          "name": "stdout",
          "text": [
            "3.141592653589793\n",
            "9.0\n"
          ]
        }
      ]
    },
    {
      "cell_type": "code",
      "source": [
        "from math import pi, sqrt\n",
        "from time import time, localtime\n",
        "from random import randint, choice"
      ],
      "metadata": {
        "id": "ILe3Ia37qRTZ"
      },
      "execution_count": null,
      "outputs": []
    },
    {
      "cell_type": "markdown",
      "source": [
        "The re module provides regular expression matching operations.\n",
        "The re.search() function scans the text variable for the first occurrence of the pattern \"REDI\". If found, it returns a match object; otherwise, it returns None.\n",
        "\n",
        "**Common Functions**\n",
        "re.search(): Searches for the first occurrence of a pattern\n",
        "\n",
        "re.match(): Searches for a pattern at the start of the string\n",
        "\n",
        "re.findall(): Returns all non-overlapping matches\n",
        "\n",
        "re.sub(): Replaces occurrences of a pattern\n",
        "\n",
        "re.split(): Splits the string into substrings based on a pattern\n"
      ],
      "metadata": {
        "id": "MOXKVOMdlAWL"
      }
    },
    {
      "cell_type": "code",
      "source": [
        "import re\n",
        "\n",
        "text = \"REDI, Hello!\"\n",
        "match = re.search(\"REDI\", text)\n",
        "if match:\n",
        "    print(\"Found match!\")"
      ],
      "metadata": {
        "id": "lq7EZtaNvrKu",
        "colab": {
          "base_uri": "https://localhost:8080/"
        },
        "outputId": "1a0b3aa9-43dc-4546-c445-dc3f623e90a3"
      },
      "execution_count": null,
      "outputs": [
        {
          "output_type": "stream",
          "name": "stdout",
          "text": [
            "Found match!\n"
          ]
        }
      ]
    },
    {
      "cell_type": "code",
      "source": [
        "import re\n",
        "text = \"Hello world, world-class programming students\"\n",
        "matches = re.findall(\"world\", text)\n",
        "print(matches)"
      ],
      "metadata": {
        "id": "uWkf8G5MlTB9",
        "colab": {
          "base_uri": "https://localhost:8080/"
        },
        "outputId": "b3d19901-0d98-4cd7-9741-695e3459a05b"
      },
      "execution_count": null,
      "outputs": [
        {
          "output_type": "stream",
          "name": "stdout",
          "text": [
            "['world', 'world']\n"
          ]
        }
      ]
    },
    {
      "cell_type": "code",
      "source": [
        "#Used foor spliting\n",
        "import re\n",
        "text = \"apple,banana,cherry\"\n",
        "fruits = re.split(\",\", text)\n",
        "print(fruits)  # Output: ['apple', 'banana', 'cherry']"
      ],
      "metadata": {
        "id": "u01qDPu3ldMn",
        "colab": {
          "base_uri": "https://localhost:8080/"
        },
        "outputId": "ca9d198f-bab0-4745-d758-7e8000da78cf"
      },
      "execution_count": null,
      "outputs": [
        {
          "output_type": "stream",
          "name": "stdout",
          "text": [
            "['apple', 'banana', 'cherry']\n"
          ]
        }
      ]
    },
    {
      "cell_type": "code",
      "source": [
        "#Replace Text\n",
        "import re\n",
        "text = \"Hello world!\"\n",
        "new_text = re.sub(\"world\", \"Annabella\", text)\n",
        "print(new_text)  # Output: Hello Python!"
      ],
      "metadata": {
        "id": "tRmMvp1IlnnX",
        "colab": {
          "base_uri": "https://localhost:8080/"
        },
        "outputId": "483a4a27-24cd-4b18-b72c-a1f861f600d9"
      },
      "execution_count": null,
      "outputs": [
        {
          "output_type": "stream",
          "name": "stdout",
          "text": [
            "Hello Annabella!\n"
          ]
        }
      ]
    },
    {
      "cell_type": "code",
      "source": [
        "#Matching Date\n",
        "\n",
        "import re\n",
        "text = \"My birthday is 02/12/1990\"\n",
        "date = re.search(r\"\\b\\d{2}/\\d{2}/\\d{4}\\b\", text)\n",
        "if date:\n",
        "    print(date.group())"
      ],
      "metadata": {
        "id": "vJ8UvNrwmAan",
        "colab": {
          "base_uri": "https://localhost:8080/"
        },
        "outputId": "7aea7b76-39fb-421f-f9b0-fee76645fbf7"
      },
      "execution_count": null,
      "outputs": [
        {
          "output_type": "stream",
          "name": "stdout",
          "text": [
            "02/12/1990\n"
          ]
        }
      ]
    },
    {
      "cell_type": "code",
      "source": [
        "import re\n",
        "text = \"Call me at 133-456-7490\"\n",
        "phone = re.search(r\"\\b\\d{3}-\\d{3}-\\d{4}\\b\", text)\n",
        "if phone:\n",
        "    print(phone.group())"
      ],
      "metadata": {
        "id": "CJhzY3kVma6e",
        "colab": {
          "base_uri": "https://localhost:8080/"
        },
        "outputId": "ad67ad79-29f9-4614-c256-95b05a0e83d8"
      },
      "execution_count": null,
      "outputs": [
        {
          "output_type": "stream",
          "name": "stdout",
          "text": [
            "133-456-7490\n"
          ]
        }
      ]
    },
    {
      "cell_type": "code",
      "source": [
        "#Split the items\n",
        "import re\n",
        "text = \"apple,banana,cherry\"\n",
        "fruits = re.split(\",\", text)\n",
        "print(fruits)  # Output: ['apple', 'banana', 'cherry']"
      ],
      "metadata": {
        "id": "G2HoAsgymhvA",
        "colab": {
          "base_uri": "https://localhost:8080/"
        },
        "outputId": "8fde4841-c107-46dc-f63c-568c12bf60eb"
      },
      "execution_count": null,
      "outputs": [
        {
          "output_type": "stream",
          "name": "stdout",
          "text": [
            "['apple', 'banana', 'cherry']\n"
          ]
        }
      ]
    },
    {
      "cell_type": "markdown",
      "source": [
        "This line imports the urllib.request module, which provides functions for working with URLs.\n",
        "\n",
        "- The urlopen() function sends an HTTP request to the specified URL and returns a response object.\n",
        "- This object contains the server's response to the request."
      ],
      "metadata": {
        "id": "IYJCSouRnU1i"
      }
    },
    {
      "cell_type": "code",
      "source": [
        "import urllib.request\n",
        "\n",
        "url = \"https://www.example.com\"\n",
        "response = urllib.request.urlopen(url)\n",
        "print(response.read())  # Output: HTML content of webpage"
      ],
      "metadata": {
        "id": "TXHTZCM0v1kQ",
        "colab": {
          "base_uri": "https://localhost:8080/"
        },
        "outputId": "e62937af-d1bd-40d9-96f7-2bfb6d206878"
      },
      "execution_count": null,
      "outputs": [
        {
          "output_type": "stream",
          "name": "stdout",
          "text": [
            "b'<!doctype html>\\n<html>\\n<head>\\n    <title>Example Domain</title>\\n\\n    <meta charset=\"utf-8\" />\\n    <meta http-equiv=\"Content-type\" content=\"text/html; charset=utf-8\" />\\n    <meta name=\"viewport\" content=\"width=device-width, initial-scale=1\" />\\n    <style type=\"text/css\">\\n    body {\\n        background-color: #f0f0f2;\\n        margin: 0;\\n        padding: 0;\\n        font-family: -apple-system, system-ui, BlinkMacSystemFont, \"Segoe UI\", \"Open Sans\", \"Helvetica Neue\", Helvetica, Arial, sans-serif;\\n        \\n    }\\n    div {\\n        width: 600px;\\n        margin: 5em auto;\\n        padding: 2em;\\n        background-color: #fdfdff;\\n        border-radius: 0.5em;\\n        box-shadow: 2px 3px 7px 2px rgba(0,0,0,0.02);\\n    }\\n    a:link, a:visited {\\n        color: #38488f;\\n        text-decoration: none;\\n    }\\n    @media (max-width: 700px) {\\n        div {\\n            margin: 0 auto;\\n            width: auto;\\n        }\\n    }\\n    </style>    \\n</head>\\n\\n<body>\\n<div>\\n    <h1>Example Domain</h1>\\n    <p>This domain is for use in illustrative examples in documents. You may use this\\n    domain in literature without prior coordination or asking for permission.</p>\\n    <p><a href=\"https://www.iana.org/domains/example\">More information...</a></p>\\n</div>\\n</body>\\n</html>\\n'\n"
          ]
        }
      ]
    },
    {
      "cell_type": "code",
      "source": [
        "import os\n",
        "\n",
        "print(os.getcwd())  # Output: Current working directory\n",
        "print(os.listdir())  # Output: List of files in current directory"
      ],
      "metadata": {
        "id": "AOhQGyTJv6oK",
        "colab": {
          "base_uri": "https://localhost:8080/"
        },
        "outputId": "a8f569cb-2e72-4f38-b4b7-2d8ad8967919"
      },
      "execution_count": null,
      "outputs": [
        {
          "output_type": "stream",
          "name": "stdout",
          "text": [
            "/content\n",
            "['.config', 'myenv', 'sample_data']\n"
          ]
        }
      ]
    },
    {
      "cell_type": "code",
      "source": [
        "#Statistics Module\n",
        "\n",
        "import statistics\n",
        "\n",
        "data = [11, 12, 23, 24, 15]\n",
        "print(statistics.mean(data))\n",
        "print(statistics.median(data))"
      ],
      "metadata": {
        "id": "Mb0NBqTNv8Dp",
        "colab": {
          "base_uri": "https://localhost:8080/"
        },
        "outputId": "fe15d049-69cf-440c-9cbe-68f6c9c6ff8e"
      },
      "execution_count": null,
      "outputs": [
        {
          "output_type": "stream",
          "name": "stdout",
          "text": [
            "17\n",
            "15\n"
          ]
        }
      ]
    },
    {
      "cell_type": "code",
      "source": [
        "#Random Module\n",
        "\n",
        "import random\n",
        "\n",
        "print(random.randint(1, 10))\n",
        "print(random.choice([1, 2, 3, 4, 5]))"
      ],
      "metadata": {
        "id": "tGLaRUbJwNi8",
        "colab": {
          "base_uri": "https://localhost:8080/"
        },
        "outputId": "30d9d3c1-f7ac-496b-e708-0faa018d7a76"
      },
      "execution_count": null,
      "outputs": [
        {
          "output_type": "stream",
          "name": "stdout",
          "text": [
            "7\n",
            "3\n"
          ]
        }
      ]
    },
    {
      "cell_type": "code",
      "source": [
        "#Working with json Module\n",
        "\n",
        "import json\n",
        "\n",
        "data = {\"name\": \"Ryan\", \"age\": 29}\n",
        "json_data = json.dumps(data)\n",
        "print(json_data)"
      ],
      "metadata": {
        "id": "_pplUHu6wTOT",
        "colab": {
          "base_uri": "https://localhost:8080/"
        },
        "outputId": "d852ce2d-b253-49ad-b759-701f9e8e4b29"
      },
      "execution_count": null,
      "outputs": [
        {
          "output_type": "stream",
          "name": "stdout",
          "text": [
            "{\"name\": \"Ryan\", \"age\": 29}\n"
          ]
        }
      ]
    },
    {
      "cell_type": "markdown",
      "source": [
        "#Virtual environments\n",
        "\n",
        "Virtual environments are isolated Python environments that allow you to manage separate sets of packages and dependencies for different projects.\n",
        "\n",
        "Why Use Virtual Environments?\n",
        "\n",
        "**Project isolation:** Keep project dependencies separate from system-wide packages.\n",
        "Dependency management: Easily manage and track project dependencies.\n",
        "Version control: Use specific package versions for each project.\n",
        "\n",
        "**Portability:** Easily move projects between environments.\n",
        "Creating a Virtual Environment on Windows\n",
        "\n",
        "\n"
      ],
      "metadata": {
        "id": "hoSRALrMxisx"
      }
    },
    {
      "cell_type": "markdown",
      "source": [
        "**Method 1:** Using venv (Built-in)\n",
        "Open Command Prompt or PowerShell.\n",
        "Navigate to your project directory.\n",
        "Run python -m venv myenv (replace myenv with your environment name).\n",
        "Activate the environment: myenv\\Scripts\\activate.\n"
      ],
      "metadata": {
        "id": "98tdWqF3yOfc"
      }
    },
    {
      "cell_type": "code",
      "source": [
        "python3 -m venv myvenv"
      ],
      "metadata": {
        "id": "QT4Qzsnkx6Fz",
        "colab": {
          "base_uri": "https://localhost:8080/",
          "height": 110
        },
        "outputId": "8f7a4a60-e1ea-47fd-c8b3-a0d2a9a462e9"
      },
      "execution_count": null,
      "outputs": [
        {
          "output_type": "error",
          "ename": "SyntaxError",
          "evalue": "invalid syntax (ipython-input-4166156725.py, line 1)",
          "traceback": [
            "\u001b[0;36m  File \u001b[0;32m\"/tmp/ipython-input-4166156725.py\"\u001b[0;36m, line \u001b[0;32m1\u001b[0m\n\u001b[0;31m    python3 -m venv myvenv\u001b[0m\n\u001b[0m               ^\u001b[0m\n\u001b[0;31mSyntaxError\u001b[0m\u001b[0;31m:\u001b[0m invalid syntax\n"
          ]
        }
      ]
    },
    {
      "cell_type": "code",
      "source": [
        "myenv/bin/activate"
      ],
      "metadata": {
        "id": "1wqtnyw_yGD4",
        "colab": {
          "base_uri": "https://localhost:8080/"
        },
        "outputId": "c995b9fe-e1c6-4232-d804-45ea8162514d"
      },
      "execution_count": null,
      "outputs": [
        {
          "output_type": "stream",
          "name": "stdout",
          "text": [
            "/bin/bash: line 1: myenv/bin/activate: No such file or directory\n"
          ]
        }
      ]
    },
    {
      "cell_type": "markdown",
      "source": [
        "**Method 2:** Using conda (Anaconda)\n",
        "Install Anaconda from the official website.\n",
        "Open Anaconda Prompt.\n",
        "\n",
        "Run conda create --name myenv python (replace myenv with your desired environment name).\n",
        "\n",
        "Activate the environment: conda activate myenv.\n",
        "\n"
      ],
      "metadata": {
        "id": "LkBNnOKyyLRl"
      }
    },
    {
      "cell_type": "code",
      "source": [
        "#Run\n",
        "conda create --name myenv python"
      ],
      "metadata": {
        "id": "zk1agtQrzMYm",
        "colab": {
          "base_uri": "https://localhost:8080/",
          "height": 110
        },
        "outputId": "b0e42930-65c6-4201-c8c4-046d79a841c6"
      },
      "execution_count": null,
      "outputs": [
        {
          "output_type": "error",
          "ename": "SyntaxError",
          "evalue": "invalid syntax (ipython-input-2931090528.py, line 2)",
          "traceback": [
            "\u001b[0;36m  File \u001b[0;32m\"/tmp/ipython-input-2931090528.py\"\u001b[0;36m, line \u001b[0;32m2\u001b[0m\n\u001b[0;31m    conda create --name myenv python\u001b[0m\n\u001b[0m          ^\u001b[0m\n\u001b[0;31mSyntaxError\u001b[0m\u001b[0;31m:\u001b[0m invalid syntax\n"
          ]
        }
      ]
    },
    {
      "cell_type": "code",
      "source": [
        "#Activate the environment:\n",
        "conda activate myenv."
      ],
      "metadata": {
        "id": "_e1gEjgAzTn_"
      },
      "execution_count": null,
      "outputs": []
    },
    {
      "cell_type": "code",
      "source": [],
      "metadata": {
        "id": "lDU7x5Aefu2Y"
      },
      "execution_count": null,
      "outputs": []
    },
    {
      "cell_type": "markdown",
      "source": [
        "**Method 3:** Using virtualenv (Third-party)\n",
        "Install virtualenv using pip: pip install virtualenv.\n",
        "Run vir"
      ],
      "metadata": {
        "id": "lA1Kg4JPyWuU"
      }
    },
    {
      "cell_type": "code",
      "source": [
        "pip install virtualenv"
      ],
      "metadata": {
        "id": "224cf1Q8yZZd"
      },
      "execution_count": null,
      "outputs": []
    },
    {
      "cell_type": "code",
      "source": [
        "virtualenv myenv"
      ],
      "metadata": {
        "id": "NQqDkd8ayaQ9"
      },
      "execution_count": null,
      "outputs": []
    },
    {
      "cell_type": "code",
      "source": [
        "myenv\\Scripts\\activate"
      ],
      "metadata": {
        "id": "_P75MX4MynDt"
      },
      "execution_count": null,
      "outputs": []
    },
    {
      "cell_type": "code",
      "source": [
        "#Activate\n",
        "myenv\\Scripts\\activate"
      ],
      "metadata": {
        "id": "BeQ5Xr_1ytHn"
      },
      "execution_count": null,
      "outputs": []
    },
    {
      "cell_type": "code",
      "source": [
        "#Deactivate\n",
        "deactivate"
      ],
      "metadata": {
        "id": "ffqcU_Swyuhv"
      },
      "execution_count": null,
      "outputs": []
    },
    {
      "cell_type": "code",
      "source": [
        "#Install Packages\n",
        "pip install package_name"
      ],
      "metadata": {
        "id": "fA_ujxH9y0vg"
      },
      "execution_count": null,
      "outputs": []
    },
    {
      "cell_type": "code",
      "source": [
        "#List Installed Packages\n",
        "pip freeze"
      ],
      "metadata": {
        "id": "tSQNOyNhy2ID"
      },
      "execution_count": null,
      "outputs": []
    },
    {
      "cell_type": "code",
      "source": [
        "#Save Package List\n",
        "pip freeze > requirements.txt"
      ],
      "metadata": {
        "id": "k6SeJNX7y5Rx"
      },
      "execution_count": null,
      "outputs": []
    },
    {
      "cell_type": "markdown",
      "source": [
        "\n",
        "\n",
        "**Create and activate virtual environment**\n",
        "\n",
        "python -m venv myenv\n",
        "source myenv/bin/activate\n",
        "\n",
        "**Install package**\n",
        "\n",
        "pip install requests\n",
        "\n",
        "**List installed packages**\n",
        "\n",
        "pip freeze\n",
        "\n",
        "**Save dependencies to file**\n",
        "\n",
        "pip freeze > requirements.txt"
      ],
      "metadata": {
        "id": "PBQLhWjkkAcE"
      }
    }
  ]
}