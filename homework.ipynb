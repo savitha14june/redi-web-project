{
  "nbformat": 4,
  "nbformat_minor": 0,
  "metadata": {
    "colab": {
      "provenance": [],
      "include_colab_link": true
    },
    "kernelspec": {
      "name": "python3",
      "display_name": "Python 3"
    },
    "language_info": {
      "name": "python"
    }
  },
  "cells": [
    {
      "cell_type": "markdown",
      "metadata": {
        "id": "view-in-github",
        "colab_type": "text"
      },
      "source": [
        "<a href=\"https://colab.research.google.com/github/savitha14june/redi-web-project/blob/main/homework.ipynb\" target=\"_parent\"><img src=\"https://colab.research.google.com/assets/colab-badge.svg\" alt=\"Open In Colab\"/></a>"
      ]
    },
    {
      "cell_type": "markdown",
      "source": [
        "## Exercise 0.\n",
        "\n",
        "Import pandas (as pd)"
      ],
      "metadata": {
        "id": "b1XcQQ-7Pwr1"
      }
    },
    {
      "cell_type": "code",
      "source": [
        "import pandas as pd"
      ],
      "metadata": {
        "id": "Glpf60KpLCSn"
      },
      "execution_count": null,
      "outputs": []
    },
    {
      "cell_type": "markdown",
      "source": [
        "## Exercise 2.\n",
        "\n",
        "Create a dataframe from a list (of lists).\n",
        "\n",
        "*Hint: look at documentation https://pandas.pydata.org/docs/reference/api/pandas.DataFrame.html*"
      ],
      "metadata": {
        "id": "I5qXIKtlQKDC"
      }
    },
    {
      "cell_type": "code",
      "execution_count": 1,
      "metadata": {
        "id": "yQcBgmuiG25X",
        "outputId": "d6d9aac7-9b29-46de-ec91-cf8e8e7085d6",
        "colab": {
          "base_uri": "https://localhost:8080/",
          "height": 125
        }
      },
      "outputs": [
        {
          "output_type": "execute_result",
          "data": {
            "text/plain": [
              "         population  fertility continent\n",
              "Germany    82000000        1.9    Europe\n",
              "Denmark     5500000        1.8    Europe"
            ],
            "text/html": [
              "\n",
              "  <div id=\"df-a860f7a2-6a4f-4eb4-9398-b7a4ff138298\" class=\"colab-df-container\">\n",
              "    <div>\n",
              "<style scoped>\n",
              "    .dataframe tbody tr th:only-of-type {\n",
              "        vertical-align: middle;\n",
              "    }\n",
              "\n",
              "    .dataframe tbody tr th {\n",
              "        vertical-align: top;\n",
              "    }\n",
              "\n",
              "    .dataframe thead th {\n",
              "        text-align: right;\n",
              "    }\n",
              "</style>\n",
              "<table border=\"1\" class=\"dataframe\">\n",
              "  <thead>\n",
              "    <tr style=\"text-align: right;\">\n",
              "      <th></th>\n",
              "      <th>population</th>\n",
              "      <th>fertility</th>\n",
              "      <th>continent</th>\n",
              "    </tr>\n",
              "  </thead>\n",
              "  <tbody>\n",
              "    <tr>\n",
              "      <th>Germany</th>\n",
              "      <td>82000000</td>\n",
              "      <td>1.9</td>\n",
              "      <td>Europe</td>\n",
              "    </tr>\n",
              "    <tr>\n",
              "      <th>Denmark</th>\n",
              "      <td>5500000</td>\n",
              "      <td>1.8</td>\n",
              "      <td>Europe</td>\n",
              "    </tr>\n",
              "  </tbody>\n",
              "</table>\n",
              "</div>\n",
              "    <div class=\"colab-df-buttons\">\n",
              "\n",
              "  <div class=\"colab-df-container\">\n",
              "    <button class=\"colab-df-convert\" onclick=\"convertToInteractive('df-a860f7a2-6a4f-4eb4-9398-b7a4ff138298')\"\n",
              "            title=\"Convert this dataframe to an interactive table.\"\n",
              "            style=\"display:none;\">\n",
              "\n",
              "  <svg xmlns=\"http://www.w3.org/2000/svg\" height=\"24px\" viewBox=\"0 -960 960 960\">\n",
              "    <path d=\"M120-120v-720h720v720H120Zm60-500h600v-160H180v160Zm220 220h160v-160H400v160Zm0 220h160v-160H400v160ZM180-400h160v-160H180v160Zm440 0h160v-160H620v160ZM180-180h160v-160H180v160Zm440 0h160v-160H620v160Z\"/>\n",
              "  </svg>\n",
              "    </button>\n",
              "\n",
              "  <style>\n",
              "    .colab-df-container {\n",
              "      display:flex;\n",
              "      gap: 12px;\n",
              "    }\n",
              "\n",
              "    .colab-df-convert {\n",
              "      background-color: #E8F0FE;\n",
              "      border: none;\n",
              "      border-radius: 50%;\n",
              "      cursor: pointer;\n",
              "      display: none;\n",
              "      fill: #1967D2;\n",
              "      height: 32px;\n",
              "      padding: 0 0 0 0;\n",
              "      width: 32px;\n",
              "    }\n",
              "\n",
              "    .colab-df-convert:hover {\n",
              "      background-color: #E2EBFA;\n",
              "      box-shadow: 0px 1px 2px rgba(60, 64, 67, 0.3), 0px 1px 3px 1px rgba(60, 64, 67, 0.15);\n",
              "      fill: #174EA6;\n",
              "    }\n",
              "\n",
              "    .colab-df-buttons div {\n",
              "      margin-bottom: 4px;\n",
              "    }\n",
              "\n",
              "    [theme=dark] .colab-df-convert {\n",
              "      background-color: #3B4455;\n",
              "      fill: #D2E3FC;\n",
              "    }\n",
              "\n",
              "    [theme=dark] .colab-df-convert:hover {\n",
              "      background-color: #434B5C;\n",
              "      box-shadow: 0px 1px 3px 1px rgba(0, 0, 0, 0.15);\n",
              "      filter: drop-shadow(0px 1px 2px rgba(0, 0, 0, 0.3));\n",
              "      fill: #FFFFFF;\n",
              "    }\n",
              "  </style>\n",
              "\n",
              "    <script>\n",
              "      const buttonEl =\n",
              "        document.querySelector('#df-a860f7a2-6a4f-4eb4-9398-b7a4ff138298 button.colab-df-convert');\n",
              "      buttonEl.style.display =\n",
              "        google.colab.kernel.accessAllowed ? 'block' : 'none';\n",
              "\n",
              "      async function convertToInteractive(key) {\n",
              "        const element = document.querySelector('#df-a860f7a2-6a4f-4eb4-9398-b7a4ff138298');\n",
              "        const dataTable =\n",
              "          await google.colab.kernel.invokeFunction('convertToInteractive',\n",
              "                                                    [key], {});\n",
              "        if (!dataTable) return;\n",
              "\n",
              "        const docLinkHtml = 'Like what you see? Visit the ' +\n",
              "          '<a target=\"_blank\" href=https://colab.research.google.com/notebooks/data_table.ipynb>data table notebook</a>'\n",
              "          + ' to learn more about interactive tables.';\n",
              "        element.innerHTML = '';\n",
              "        dataTable['output_type'] = 'display_data';\n",
              "        await google.colab.output.renderOutput(dataTable, element);\n",
              "        const docLink = document.createElement('div');\n",
              "        docLink.innerHTML = docLinkHtml;\n",
              "        element.appendChild(docLink);\n",
              "      }\n",
              "    </script>\n",
              "  </div>\n",
              "\n",
              "\n",
              "    <div id=\"df-dba481d9-4913-4aa4-9252-e4e968523af4\">\n",
              "      <button class=\"colab-df-quickchart\" onclick=\"quickchart('df-dba481d9-4913-4aa4-9252-e4e968523af4')\"\n",
              "                title=\"Suggest charts\"\n",
              "                style=\"display:none;\">\n",
              "\n",
              "<svg xmlns=\"http://www.w3.org/2000/svg\" height=\"24px\"viewBox=\"0 0 24 24\"\n",
              "     width=\"24px\">\n",
              "    <g>\n",
              "        <path d=\"M19 3H5c-1.1 0-2 .9-2 2v14c0 1.1.9 2 2 2h14c1.1 0 2-.9 2-2V5c0-1.1-.9-2-2-2zM9 17H7v-7h2v7zm4 0h-2V7h2v10zm4 0h-2v-4h2v4z\"/>\n",
              "    </g>\n",
              "</svg>\n",
              "      </button>\n",
              "\n",
              "<style>\n",
              "  .colab-df-quickchart {\n",
              "      --bg-color: #E8F0FE;\n",
              "      --fill-color: #1967D2;\n",
              "      --hover-bg-color: #E2EBFA;\n",
              "      --hover-fill-color: #174EA6;\n",
              "      --disabled-fill-color: #AAA;\n",
              "      --disabled-bg-color: #DDD;\n",
              "  }\n",
              "\n",
              "  [theme=dark] .colab-df-quickchart {\n",
              "      --bg-color: #3B4455;\n",
              "      --fill-color: #D2E3FC;\n",
              "      --hover-bg-color: #434B5C;\n",
              "      --hover-fill-color: #FFFFFF;\n",
              "      --disabled-bg-color: #3B4455;\n",
              "      --disabled-fill-color: #666;\n",
              "  }\n",
              "\n",
              "  .colab-df-quickchart {\n",
              "    background-color: var(--bg-color);\n",
              "    border: none;\n",
              "    border-radius: 50%;\n",
              "    cursor: pointer;\n",
              "    display: none;\n",
              "    fill: var(--fill-color);\n",
              "    height: 32px;\n",
              "    padding: 0;\n",
              "    width: 32px;\n",
              "  }\n",
              "\n",
              "  .colab-df-quickchart:hover {\n",
              "    background-color: var(--hover-bg-color);\n",
              "    box-shadow: 0 1px 2px rgba(60, 64, 67, 0.3), 0 1px 3px 1px rgba(60, 64, 67, 0.15);\n",
              "    fill: var(--button-hover-fill-color);\n",
              "  }\n",
              "\n",
              "  .colab-df-quickchart-complete:disabled,\n",
              "  .colab-df-quickchart-complete:disabled:hover {\n",
              "    background-color: var(--disabled-bg-color);\n",
              "    fill: var(--disabled-fill-color);\n",
              "    box-shadow: none;\n",
              "  }\n",
              "\n",
              "  .colab-df-spinner {\n",
              "    border: 2px solid var(--fill-color);\n",
              "    border-color: transparent;\n",
              "    border-bottom-color: var(--fill-color);\n",
              "    animation:\n",
              "      spin 1s steps(1) infinite;\n",
              "  }\n",
              "\n",
              "  @keyframes spin {\n",
              "    0% {\n",
              "      border-color: transparent;\n",
              "      border-bottom-color: var(--fill-color);\n",
              "      border-left-color: var(--fill-color);\n",
              "    }\n",
              "    20% {\n",
              "      border-color: transparent;\n",
              "      border-left-color: var(--fill-color);\n",
              "      border-top-color: var(--fill-color);\n",
              "    }\n",
              "    30% {\n",
              "      border-color: transparent;\n",
              "      border-left-color: var(--fill-color);\n",
              "      border-top-color: var(--fill-color);\n",
              "      border-right-color: var(--fill-color);\n",
              "    }\n",
              "    40% {\n",
              "      border-color: transparent;\n",
              "      border-right-color: var(--fill-color);\n",
              "      border-top-color: var(--fill-color);\n",
              "    }\n",
              "    60% {\n",
              "      border-color: transparent;\n",
              "      border-right-color: var(--fill-color);\n",
              "    }\n",
              "    80% {\n",
              "      border-color: transparent;\n",
              "      border-right-color: var(--fill-color);\n",
              "      border-bottom-color: var(--fill-color);\n",
              "    }\n",
              "    90% {\n",
              "      border-color: transparent;\n",
              "      border-bottom-color: var(--fill-color);\n",
              "    }\n",
              "  }\n",
              "</style>\n",
              "\n",
              "      <script>\n",
              "        async function quickchart(key) {\n",
              "          const quickchartButtonEl =\n",
              "            document.querySelector('#' + key + ' button');\n",
              "          quickchartButtonEl.disabled = true;  // To prevent multiple clicks.\n",
              "          quickchartButtonEl.classList.add('colab-df-spinner');\n",
              "          try {\n",
              "            const charts = await google.colab.kernel.invokeFunction(\n",
              "                'suggestCharts', [key], {});\n",
              "          } catch (error) {\n",
              "            console.error('Error during call to suggestCharts:', error);\n",
              "          }\n",
              "          quickchartButtonEl.classList.remove('colab-df-spinner');\n",
              "          quickchartButtonEl.classList.add('colab-df-quickchart-complete');\n",
              "        }\n",
              "        (() => {\n",
              "          let quickchartButtonEl =\n",
              "            document.querySelector('#df-dba481d9-4913-4aa4-9252-e4e968523af4 button');\n",
              "          quickchartButtonEl.style.display =\n",
              "            google.colab.kernel.accessAllowed ? 'block' : 'none';\n",
              "        })();\n",
              "      </script>\n",
              "    </div>\n",
              "\n",
              "  <div id=\"id_51f7fd82-73fa-4a32-831d-aea06205f440\">\n",
              "    <style>\n",
              "      .colab-df-generate {\n",
              "        background-color: #E8F0FE;\n",
              "        border: none;\n",
              "        border-radius: 50%;\n",
              "        cursor: pointer;\n",
              "        display: none;\n",
              "        fill: #1967D2;\n",
              "        height: 32px;\n",
              "        padding: 0 0 0 0;\n",
              "        width: 32px;\n",
              "      }\n",
              "\n",
              "      .colab-df-generate:hover {\n",
              "        background-color: #E2EBFA;\n",
              "        box-shadow: 0px 1px 2px rgba(60, 64, 67, 0.3), 0px 1px 3px 1px rgba(60, 64, 67, 0.15);\n",
              "        fill: #174EA6;\n",
              "      }\n",
              "\n",
              "      [theme=dark] .colab-df-generate {\n",
              "        background-color: #3B4455;\n",
              "        fill: #D2E3FC;\n",
              "      }\n",
              "\n",
              "      [theme=dark] .colab-df-generate:hover {\n",
              "        background-color: #434B5C;\n",
              "        box-shadow: 0px 1px 3px 1px rgba(0, 0, 0, 0.15);\n",
              "        filter: drop-shadow(0px 1px 2px rgba(0, 0, 0, 0.3));\n",
              "        fill: #FFFFFF;\n",
              "      }\n",
              "    </style>\n",
              "    <button class=\"colab-df-generate\" onclick=\"generateWithVariable('df')\"\n",
              "            title=\"Generate code using this dataframe.\"\n",
              "            style=\"display:none;\">\n",
              "\n",
              "  <svg xmlns=\"http://www.w3.org/2000/svg\" height=\"24px\"viewBox=\"0 0 24 24\"\n",
              "       width=\"24px\">\n",
              "    <path d=\"M7,19H8.4L18.45,9,17,7.55,7,17.6ZM5,21V16.75L18.45,3.32a2,2,0,0,1,2.83,0l1.4,1.43a1.91,1.91,0,0,1,.58,1.4,1.91,1.91,0,0,1-.58,1.4L9.25,21ZM18.45,9,17,7.55Zm-12,3A5.31,5.31,0,0,0,4.9,8.1,5.31,5.31,0,0,0,1,6.5,5.31,5.31,0,0,0,4.9,4.9,5.31,5.31,0,0,0,6.5,1,5.31,5.31,0,0,0,8.1,4.9,5.31,5.31,0,0,0,12,6.5,5.46,5.46,0,0,0,6.5,12Z\"/>\n",
              "  </svg>\n",
              "    </button>\n",
              "    <script>\n",
              "      (() => {\n",
              "      const buttonEl =\n",
              "        document.querySelector('#id_51f7fd82-73fa-4a32-831d-aea06205f440 button.colab-df-generate');\n",
              "      buttonEl.style.display =\n",
              "        google.colab.kernel.accessAllowed ? 'block' : 'none';\n",
              "\n",
              "      buttonEl.onclick = () => {\n",
              "        google.colab.notebook.generateWithVariable('df');\n",
              "      }\n",
              "      })();\n",
              "    </script>\n",
              "  </div>\n",
              "\n",
              "    </div>\n",
              "  </div>\n"
            ],
            "application/vnd.google.colaboratory.intrinsic+json": {
              "type": "dataframe",
              "variable_name": "df",
              "summary": "{\n  \"name\": \"df\",\n  \"rows\": 2,\n  \"fields\": [\n    {\n      \"column\": \"population\",\n      \"properties\": {\n        \"dtype\": \"number\",\n        \"std\": 54093668,\n        \"min\": 5500000,\n        \"max\": 82000000,\n        \"num_unique_values\": 2,\n        \"samples\": [\n          5500000,\n          82000000\n        ],\n        \"semantic_type\": \"\",\n        \"description\": \"\"\n      }\n    },\n    {\n      \"column\": \"fertility\",\n      \"properties\": {\n        \"dtype\": \"number\",\n        \"std\": 0.07071067811865465,\n        \"min\": 1.8,\n        \"max\": 1.9,\n        \"num_unique_values\": 2,\n        \"samples\": [\n          1.8,\n          1.9\n        ],\n        \"semantic_type\": \"\",\n        \"description\": \"\"\n      }\n    },\n    {\n      \"column\": \"continent\",\n      \"properties\": {\n        \"dtype\": \"string\",\n        \"num_unique_values\": 1,\n        \"samples\": [\n          \"Europe\"\n        ],\n        \"semantic_type\": \"\",\n        \"description\": \"\"\n      }\n    }\n  ]\n}"
            }
          },
          "metadata": {},
          "execution_count": 1
        }
      ],
      "source": [
        "import pandas as pd\n",
        "my_data = [[82_000_000, 1.9, \"Europe\"],\n",
        "        [ 5_500_000, 1.8, \"Europe\"]]\n",
        "my_columns=['population', 'fertility', 'continent']\n",
        "my_index=['Germany', 'Denmark']\n",
        "\n",
        "# create dataframe from a list  | YOUR CODE\n",
        "df = pd.DataFrame(data=my_data, columns=my_columns, index=my_index)\n",
        "df"
      ]
    },
    {
      "cell_type": "markdown",
      "source": [
        "## Exercise 2.\n",
        "\n",
        "Create a dataframe from a dictionary."
      ],
      "metadata": {
        "id": "S7zMgFY7O2mq"
      }
    },
    {
      "cell_type": "code",
      "source": [
        "data = {'item': ['spam', 'baked beans', 'rosemary', 'spaghetti'],\n",
        "        'amount': [1, 3, 1.2, 1],\n",
        "        'unit': ['can', 'can', '100 g', 'pack'],\n",
        "        'price': [0.99, 1.29, 1.99, 2.49]}\n",
        "\n",
        "# create dataframe from a dictionary | YOUR CODE\n",
        "df = ..."
      ],
      "metadata": {
        "id": "muyL9SLEK06s"
      },
      "execution_count": null,
      "outputs": []
    },
    {
      "cell_type": "markdown",
      "source": [
        "## Exercise 3 / Solve with one-liners\n",
        "\n",
        "### Exercise 3a: create a dataframe\n",
        "\n",
        "Go to this website: https://www.gapminder.org/data/\n",
        "\n",
        "Choose \"Population\"->\"Total population\" dataset and download csv \"population_total.csv\".\n",
        "\n",
        "\n",
        "Upload it to the notebook content."
      ],
      "metadata": {
        "id": "6x_Dm1auzvMV"
      }
    },
    {
      "cell_type": "markdown",
      "source": [
        "### Exercise 3b.\n",
        "\n",
        "Read the file into a DataFrame"
      ],
      "metadata": {
        "id": "Nvh7N6yw0JPW"
      }
    },
    {
      "cell_type": "code",
      "source": [
        "df = ..."
      ],
      "metadata": {
        "id": "2c7uzjR80IC4"
      },
      "execution_count": null,
      "outputs": []
    },
    {
      "cell_type": "markdown",
      "source": [
        "## Attention! Recent addition!\n",
        "\n",
        "As Juan noticed - the csv file that I offered you to work with contains string values that can't be directly casted to integers like '120M', '6.5k', etc.\n",
        "To process the data and make the numerical value integers use the code snippet below:"
      ],
      "metadata": {
        "id": "JD4IxonTzf7A"
      }
    },
    {
      "cell_type": "code",
      "source": [
        "# this is a simple function that turnes our strings to integers:\n",
        "def numerize(x):\n",
        "  if x[-1:] == 'M':\n",
        "    x = int(float(x[:-1])*1000000)\n",
        "  elif x[-1:] == 'B':\n",
        "    x = int(float(x[:-1])*1000000000)\n",
        "  elif x[-1:] == 'k':\n",
        "    x = int(float(x[:-1])*1000)\n",
        "  else:\n",
        "    x = int(x)\n",
        "  return x\n",
        "# here we using .applymap() method that applies our function to every element of a DataFrame\n",
        "# pay attention what we applied it to df.iloc[:,1:] - which means all the cells excluyding the first columns with country names\n",
        "df.iloc[:, 1:] = df.iloc[:, 1:].applymap(numerize)"
      ],
      "metadata": {
        "id": "vThLEUbbzeLF"
      },
      "execution_count": null,
      "outputs": []
    },
    {
      "cell_type": "markdown",
      "source": [
        "### Exercise 3c.\n",
        "\n",
        "Display the number of rows and columns"
      ],
      "metadata": {
        "id": "2W4-mI-WQ8ga"
      }
    },
    {
      "cell_type": "code",
      "source": [],
      "metadata": {
        "id": "z0D3RlH6PvK_"
      },
      "execution_count": null,
      "outputs": []
    },
    {
      "cell_type": "markdown",
      "source": [
        "### Exercise 3d.\n",
        "\n",
        "Display the first 5 countries in the alphabet."
      ],
      "metadata": {
        "id": "IgwkO2iJQ_L_"
      }
    },
    {
      "cell_type": "code",
      "source": [],
      "metadata": {
        "id": "m_ZWFYiRPvBI"
      },
      "execution_count": null,
      "outputs": []
    },
    {
      "cell_type": "markdown",
      "source": [
        "### Exercise 3e.\n",
        "\n",
        "Which country had the biggest population in 1920?"
      ],
      "metadata": {
        "id": "sL375ThaRAEo"
      }
    },
    {
      "cell_type": "code",
      "source": [],
      "metadata": {
        "id": "qn_6rKCMPu1h"
      },
      "execution_count": null,
      "outputs": []
    },
    {
      "cell_type": "markdown",
      "source": [
        "### Exercise 3f.\n",
        "\n",
        "Find out how many people lived in Cyprus in 2000?"
      ],
      "metadata": {
        "id": "gY2fhTk6RBCZ"
      }
    },
    {
      "cell_type": "code",
      "source": [],
      "metadata": {
        "id": "gffEA8bgPumO"
      },
      "execution_count": null,
      "outputs": []
    },
    {
      "cell_type": "markdown",
      "source": [
        "### Exercise 3g.\n",
        "Define a DataFrame with only countries that had population over 1M people in 2015"
      ],
      "metadata": {
        "id": "1fCC7Y7oRzFe"
      }
    },
    {
      "cell_type": "code",
      "source": [],
      "metadata": {
        "id": "DFNVSqULPuLi"
      },
      "execution_count": null,
      "outputs": []
    },
    {
      "cell_type": "markdown",
      "source": [
        "### Exercise 3h.\n",
        "Select every second country."
      ],
      "metadata": {
        "id": "fFlRIT04SLLP"
      }
    },
    {
      "cell_type": "code",
      "source": [],
      "metadata": {
        "id": "kLdTrj36SHxl"
      },
      "execution_count": null,
      "outputs": []
    },
    {
      "cell_type": "markdown",
      "source": [
        "### Exercise 4 / EXTRA\n",
        "Find and fix bugs."
      ],
      "metadata": {
        "id": "FUiFLEYISShi"
      }
    },
    {
      "cell_type": "code",
      "source": [
        "lesson_parts = ['Recap',\n",
        "                'Homework',\n",
        "                'CSV Module',\n",
        "                'Exercises',\n",
        "                'Break',\n",
        "                'Libraries: Introduction to Pandas',\n",
        "                'Pandas exercises',\n",
        "                'Other libraries & homework']\n",
        "time = [10, 20, 10, 20, 5, 15, 25, 15]\n",
        "\n",
        "df = pd.DataFrame({'lesson_parts': lesson_parts,\n",
        "                   'time': time\n",
        "                   })\n",
        "\n",
        "print(sort_values(by='lesson_parts', ascending=False))\n",
        "\n",
        "print(\"\\ntotal participants:\", df.sum('participants'))"
      ],
      "metadata": {
        "id": "zzBymzHwLa0N"
      },
      "execution_count": null,
      "outputs": []
    },
    {
      "cell_type": "markdown",
      "source": [
        "Exercise 5 / LONG TERM EXTRA\n",
        "\n",
        "Copy 100-pandas-puzzles.ipynb from this repo:\n",
        "https://github.com/ajcr/100-pandas-puzzles\n",
        "\n",
        "Practice, practice, practice..."
      ],
      "metadata": {
        "id": "nx7Jy8m5Szqe"
      }
    },
    {
      "cell_type": "code",
      "source": [],
      "metadata": {
        "id": "38hX0zvJ8UEq"
      },
      "execution_count": null,
      "outputs": []
    }
  ]
}