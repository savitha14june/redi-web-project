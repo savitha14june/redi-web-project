{
  "nbformat": 4,
  "nbformat_minor": 0,
  "metadata": {
    "colab": {
      "provenance": [],
      "include_colab_link": true
    },
    "kernelspec": {
      "name": "python3",
      "display_name": "Python 3"
    },
    "language_info": {
      "name": "python"
    }
  },
  "cells": [
    {
      "cell_type": "markdown",
      "metadata": {
        "id": "view-in-github",
        "colab_type": "text"
      },
      "source": [
        "<a href=\"https://colab.research.google.com/github/savitha14june/redi-web-project/blob/main/homework.ipynb\" target=\"_parent\"><img src=\"https://colab.research.google.com/assets/colab-badge.svg\" alt=\"Open In Colab\"/></a>"
      ]
    },
    {
      "cell_type": "markdown",
      "source": [
        "## Exercise 0.\n",
        "\n",
        "Import pandas (as pd)"
      ],
      "metadata": {
        "id": "b1XcQQ-7Pwr1"
      }
    },
    {
      "cell_type": "code",
      "source": [
        "import pandas as pd"
      ],
      "metadata": {
        "id": "Glpf60KpLCSn"
      },
      "execution_count": null,
      "outputs": []
    },
    {
      "cell_type": "markdown",
      "source": [
        "## Exercise 2.\n",
        "\n",
        "Create a dataframe from a list (of lists).\n",
        "\n",
        "*Hint: look at documentation https://pandas.pydata.org/docs/reference/api/pandas.DataFrame.html*"
      ],
      "metadata": {
        "id": "I5qXIKtlQKDC"
      }
    },
    {
      "cell_type": "code",
      "execution_count": null,
      "metadata": {
        "id": "yQcBgmuiG25X"
      },
      "outputs": [],
      "source": [
        "my_data = [[82_000_000, 1.9, \"Europe\"],\n",
        "        [ 5_500_000, 1.8, \"Europe\"]]\n",
        "my_columns=['population', 'fertility', 'continent']\n",
        "my_index=['Germany', 'Denmark']\n",
        "\n",
        "# create dataframe from a list  | YOUR CODE\n",
        "df = ..."
      ]
    },
    {
      "cell_type": "markdown",
      "source": [
        "## Exercise 2.\n",
        "\n",
        "Create a dataframe from a dictionary."
      ],
      "metadata": {
        "id": "S7zMgFY7O2mq"
      }
    },
    {
      "cell_type": "code",
      "source": [
        "data = {'item': ['spam', 'baked beans', 'rosemary', 'spaghetti'],\n",
        "        'amount': [1, 3, 1.2, 1],\n",
        "        'unit': ['can', 'can', '100 g', 'pack'],\n",
        "        'price': [0.99, 1.29, 1.99, 2.49]}\n",
        "\n",
        "# create dataframe from a dictionary | YOUR CODE\n",
        "df = ..."
      ],
      "metadata": {
        "id": "muyL9SLEK06s"
      },
      "execution_count": null,
      "outputs": []
    },
    {
      "cell_type": "markdown",
      "source": [
        "## Exercise 3 / Solve with one-liners\n",
        "\n",
        "### Exercise 3a: create a dataframe\n",
        "\n",
        "Go to this website: https://www.gapminder.org/data/\n",
        "\n",
        "Choose \"Population\"->\"Total population\" dataset and download csv \"population_total.csv\".\n",
        "\n",
        "\n",
        "Upload it to the notebook content."
      ],
      "metadata": {
        "id": "6x_Dm1auzvMV"
      }
    },
    {
      "cell_type": "markdown",
      "source": [
        "### Exercise 3b.\n",
        "\n",
        "Read the file into a DataFrame"
      ],
      "metadata": {
        "id": "Nvh7N6yw0JPW"
      }
    },
    {
      "cell_type": "code",
      "source": [
        "df = ..."
      ],
      "metadata": {
        "id": "2c7uzjR80IC4"
      },
      "execution_count": null,
      "outputs": []
    },
    {
      "cell_type": "markdown",
      "source": [
        "## Attention! Recent addition!\n",
        "\n",
        "As Juan noticed - the csv file that I offered you to work with contains string values that can't be directly casted to integers like '120M', '6.5k', etc.\n",
        "To process the data and make the numerical value integers use the code snippet below:"
      ],
      "metadata": {
        "id": "JD4IxonTzf7A"
      }
    },
    {
      "cell_type": "code",
      "source": [
        "# this is a simple function that turnes our strings to integers:\n",
        "def numerize(x):\n",
        "  if x[-1:] == 'M':\n",
        "    x = int(float(x[:-1])*1000000)\n",
        "  elif x[-1:] == 'B':\n",
        "    x = int(float(x[:-1])*1000000000)\n",
        "  elif x[-1:] == 'k':\n",
        "    x = int(float(x[:-1])*1000)\n",
        "  else:\n",
        "    x = int(x)\n",
        "  return x\n",
        "# here we using .applymap() method that applies our function to every element of a DataFrame\n",
        "# pay attention what we applied it to df.iloc[:,1:] - which means all the cells excluyding the first columns with country names\n",
        "df.iloc[:, 1:] = df.iloc[:, 1:].applymap(numerize)"
      ],
      "metadata": {
        "id": "vThLEUbbzeLF"
      },
      "execution_count": null,
      "outputs": []
    },
    {
      "cell_type": "markdown",
      "source": [
        "### Exercise 3c.\n",
        "\n",
        "Display the number of rows and columns"
      ],
      "metadata": {
        "id": "2W4-mI-WQ8ga"
      }
    },
    {
      "cell_type": "code",
      "source": [],
      "metadata": {
        "id": "z0D3RlH6PvK_"
      },
      "execution_count": null,
      "outputs": []
    },
    {
      "cell_type": "markdown",
      "source": [
        "### Exercise 3d.\n",
        "\n",
        "Display the first 5 countries in the alphabet."
      ],
      "metadata": {
        "id": "IgwkO2iJQ_L_"
      }
    },
    {
      "cell_type": "code",
      "source": [],
      "metadata": {
        "id": "m_ZWFYiRPvBI"
      },
      "execution_count": null,
      "outputs": []
    },
    {
      "cell_type": "markdown",
      "source": [
        "### Exercise 3e.\n",
        "\n",
        "Which country had the biggest population in 1920?"
      ],
      "metadata": {
        "id": "sL375ThaRAEo"
      }
    },
    {
      "cell_type": "code",
      "source": [],
      "metadata": {
        "id": "qn_6rKCMPu1h"
      },
      "execution_count": null,
      "outputs": []
    },
    {
      "cell_type": "markdown",
      "source": [
        "### Exercise 3f.\n",
        "\n",
        "Find out how many people lived in Cyprus in 2000?"
      ],
      "metadata": {
        "id": "gY2fhTk6RBCZ"
      }
    },
    {
      "cell_type": "code",
      "source": [],
      "metadata": {
        "id": "gffEA8bgPumO"
      },
      "execution_count": null,
      "outputs": []
    },
    {
      "cell_type": "markdown",
      "source": [
        "### Exercise 3g.\n",
        "Define a DataFrame with only countries that had population over 1M people in 2015"
      ],
      "metadata": {
        "id": "1fCC7Y7oRzFe"
      }
    },
    {
      "cell_type": "code",
      "source": [],
      "metadata": {
        "id": "DFNVSqULPuLi"
      },
      "execution_count": null,
      "outputs": []
    },
    {
      "cell_type": "markdown",
      "source": [
        "### Exercise 3h.\n",
        "Select every second country."
      ],
      "metadata": {
        "id": "fFlRIT04SLLP"
      }
    },
    {
      "cell_type": "code",
      "source": [],
      "metadata": {
        "id": "kLdTrj36SHxl"
      },
      "execution_count": null,
      "outputs": []
    },
    {
      "cell_type": "markdown",
      "source": [
        "### Exercise 4 / EXTRA\n",
        "Find and fix bugs."
      ],
      "metadata": {
        "id": "FUiFLEYISShi"
      }
    },
    {
      "cell_type": "code",
      "source": [
        "lesson_parts = ['Recap',\n",
        "                'Homework',\n",
        "                'CSV Module',\n",
        "                'Exercises',\n",
        "                'Break',\n",
        "                'Libraries: Introduction to Pandas',\n",
        "                'Pandas exercises',\n",
        "                'Other libraries & homework']\n",
        "time = [10, 20, 10, 20, 5, 15, 25, 15]\n",
        "\n",
        "df = pd.DataFrame({'lesson_parts': lesson_parts,\n",
        "                   'time': time\n",
        "                   })\n",
        "\n",
        "print(sort_values(by='lesson_parts', ascending=False))\n",
        "\n",
        "print(\"\\ntotal participants:\", df.sum('participants'))"
      ],
      "metadata": {
        "id": "zzBymzHwLa0N"
      },
      "execution_count": null,
      "outputs": []
    },
    {
      "cell_type": "markdown",
      "source": [
        "Exercise 5 / LONG TERM EXTRA\n",
        "\n",
        "Copy 100-pandas-puzzles.ipynb from this repo:\n",
        "https://github.com/ajcr/100-pandas-puzzles\n",
        "\n",
        "Practice, practice, practice..."
      ],
      "metadata": {
        "id": "nx7Jy8m5Szqe"
      }
    },
    {
      "cell_type": "code",
      "source": [],
      "metadata": {
        "id": "38hX0zvJ8UEq"
      },
      "execution_count": null,
      "outputs": []
    }
  ]
}